{
 "cells": [
  {
   "cell_type": "code",
   "execution_count": 7,
   "id": "14a39d98",
   "metadata": {},
   "outputs": [
    {
     "name": "stdout",
     "output_type": "stream",
     "text": [
      "Model loaded successfully.\n",
      "[array([[22.281214]], dtype=float32), array([[0.32745537]], dtype=float32)]\n",
      "Predicted age for vishal s.png: 22 years\n"
     ]
    },
    {
     "name": "stderr",
     "output_type": "stream",
     "text": [
      "C:\\Users\\venka\\AppData\\Local\\Temp\\ipykernel_17544\\1596397566.py:37: DeprecationWarning: Conversion of an array with ndim > 0 to a scalar is deprecated, and will error in future. Ensure you extract a single element from your array before performing this operation. (Deprecated NumPy 1.25.)\n",
      "  pred_age = int(pred_output[0][0])\n"
     ]
    }
   ],
   "source": [
    "import os\n",
    "import numpy as np\n",
    "import cv2\n",
    "from tensorflow.keras.preprocessing.image import load_img, img_to_array\n",
    "from tensorflow.keras.models import load_model\n",
    "\n",
    "# Path to the uploaded image\n",
    "image_path = \"vishal s.png\"  # Make sure this is the correct filename\n",
    "\n",
    "# Path to the saved model\n",
    "model_path = r'C:\\Users\\venka\\OneDrive\\Desktop\\cts\\age_focus_model.h5'\n",
    "\n",
    "# Check if the image exists\n",
    "if not os.path.exists(image_path):\n",
    "    print(f\"Error: Image not found at {image_path}\")\n",
    "else:\n",
    "    try:\n",
    "        # Load the saved model\n",
    "        # Load the saved model for inference only\n",
    "        model = load_model(model_path, compile=False)\n",
    "\n",
    "        print(\"Model loaded successfully.\")\n",
    "\n",
    "        # Load and preprocess the image\n",
    "        # Assuming IMG_SIZE is defined in a previous cell\n",
    "        IMG_SIZE = (128, 128)  # Match this to your model's input\n",
    "\n",
    "        img = load_img(image_path, target_size=IMG_SIZE)\n",
    "\n",
    "\n",
    "        img_array = img_to_array(img) / 255.0\n",
    "        img_array = np.expand_dims(img_array, axis=0)  # Add batch dimension\n",
    "\n",
    "        # Make prediction\n",
    "        pred_output = model.predict(img_array, verbose=0)\n",
    "        print(pred_output)\n",
    "        pred_age = int(pred_output[0][0])\n",
    "\n",
    "        print(f\"Predicted age for {os.path.basename(image_path)}: {pred_age} years\")\n",
    "\n",
    "    except Exception as e:\n",
    "        print(f\"An error occurred while processing the image: {e}\")"
   ]
  },
  {
   "cell_type": "code",
   "execution_count": null,
   "id": "54ab5aa9",
   "metadata": {},
   "outputs": [],
   "source": []
  }
 ],
 "metadata": {
  "kernelspec": {
   "display_name": "Python 3",
   "language": "python",
   "name": "python3"
  },
  "language_info": {
   "codemirror_mode": {
    "name": "ipython",
    "version": 3
   },
   "file_extension": ".py",
   "mimetype": "text/x-python",
   "name": "python",
   "nbconvert_exporter": "python",
   "pygments_lexer": "ipython3",
   "version": "3.12.10"
  }
 },
 "nbformat": 4,
 "nbformat_minor": 5
}
